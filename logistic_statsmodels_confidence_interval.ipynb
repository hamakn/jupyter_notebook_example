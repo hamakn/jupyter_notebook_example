{
 "cells": [
  {
   "cell_type": "code",
   "execution_count": null,
   "metadata": {},
   "outputs": [],
   "source": [
    "# Confidence interval of probability prediction from logistic regression statsmodels\n",
    "# https://stackoverflow.com/questions/47414842/confidence-interval-of-probability-prediction-from-logistic-regression-statsmode"
   ]
  },
  {
   "cell_type": "code",
   "execution_count": 85,
   "metadata": {
    "scrolled": false
   },
   "outputs": [
    {
     "name": "stdout",
     "output_type": "stream",
     "text": [
      "Optimization terminated successfully.\n",
      "         Current function value: 0.262382\n",
      "         Iterations 8\n",
      "                           Logit Regression Results                           \n",
      "==============================================================================\n",
      "Dep. Variable:                      y   No. Observations:                  100\n",
      "Model:                          Logit   Df Residuals:                       98\n",
      "Method:                           MLE   Df Model:                            1\n",
      "Date:                Tue, 09 Jan 2018   Pseudo R-squ.:                  0.6175\n",
      "Time:                        04:01:04   Log-Likelihood:                -26.238\n",
      "converged:                       True   LL-Null:                       -68.593\n",
      "                                        LLR p-value:                 3.456e-20\n",
      "==============================================================================\n",
      "                 coef    std err          z      P>|z|      [0.025      0.975]\n",
      "------------------------------------------------------------------------------\n",
      "const         -6.8760      1.427     -4.819      0.000      -9.673      -4.079\n",
      "x1             0.1238      0.025      4.958      0.000       0.075       0.173\n",
      "==============================================================================\n",
      "[ 0.50043543]\n"
     ]
    },
    {
     "data": {
      "image/png": "[encoded data removed]",
      "text/plain": [
       "<matplotlib.figure.Figure at 0x7fdba9f7f9b0>"
      ]
     },
     "metadata": {},
     "output_type": "display_data"
    }
   ],
   "source": [
    "import numpy as np\n",
    "import statsmodels.api as sm\n",
    "import matplotlib.pyplot as plt\n",
    "\n",
    "# generate data\n",
    "np.random.seed(1)\n",
    "x = np.arange(100)\n",
    "\n",
    "# x * 0.5（つまり0〜99） + 平均0、分散10の乱数が30より大きいか否か...つまり、\n",
    "# xが60のときにyがtrue/falseのどちらかになるかは半々になる値を作成する\n",
    "y = (x * 0.5 + np.random.normal(size=100, scale=10) > 30)\n",
    "\n",
    "# estimate the model\n",
    "# [0, 1, 2, 3, ...] というnbarrayを [[1,0], [1, 1], [1, 2], [1,3], ...] というnbarrayに変換している\n",
    "# statsmodels.formula.apiを使うのであれば必要ない\n",
    "# https://stackoverflow.com/questions/30650257/ols-using-statsmodel-formula-api-versus-statsmodel-api\n",
    "X = sm.add_constant(x)\n",
    "\n",
    "model = sm.Logit(y, X).fit()\n",
    "\n",
    "print(model.summary())\n",
    "# => \n",
    "#                  coef    std err          z      P>|z|      [0.025      0.975]\n",
    "# ------------------------------------------------------------------------------\n",
    "# const         -6.8760      1.427     -4.819      0.000      -9.673      -4.079\n",
    "# x1             0.1238      0.025      4.958      0.000       0.075       0.173\n",
    "# p = 0.1238 * x - 6.876 とすると、p = 0となるのは\n",
    "# x = 55.541\n",
    "print(model.predict([1, 55.541])) # => [ 0.50043543] 0.5になった、OK\n",
    "\n",
    "# 入力Xに対する分類確率を計算しているだけ\n",
    "proba = model.predict(X) # predicted probability\n",
    "\n",
    "# estimate confidence interval for predicted probabilities\n",
    "cov = model.cov_params()\n",
    "gradient = (proba * (1 - proba) * X.T).T # matrix of gradients for each observation\n",
    "std_errors = np.array([np.sqrt(np.dot(np.dot(g, cov), g)) for g in gradient])\n",
    "c = 1.96 # multiplier for confidence interval\n",
    "upper = np.maximum(0, np.minimum(1, proba + std_errors * c))\n",
    "lower = np.maximum(0, np.minimum(1, proba - std_errors * c))\n",
    "\n",
    "plt.plot(x, proba)\n",
    "plt.plot(x, lower, color='g')\n",
    "plt.plot(x, upper, color='g')\n",
    "plt.scatter(x, y, c='red', marker='x')\n",
    "\n",
    "# 線形分離の線も描く\n",
    "const = model.params[0]\n",
    "x1 = model.params[1]\n",
    "v = -const / x1\n",
    "plt.plot([v,v],[0,1])\n",
    "\n",
    "# conf_int = model.conf_int()\n",
    "# const = conf_int[0][0]\n",
    "# x1 = conf_int[1][0]\n",
    "# v = -const / x1\n",
    "# plt.plot([v, v], [0, 1], \"g\")\n",
    "\n",
    "plt.show()"
   ]
  },
  {
   "cell_type": "code",
   "execution_count": null,
   "metadata": {},
   "outputs": [],
   "source": []
  }
 ],
 "metadata": {
  "kernelspec": {
   "display_name": "Python 3",
   "language": "python",
   "name": "python3"
  },
  "language_info": {
   "codemirror_mode": {
    "name": "ipython",
    "version": 3
   },
   "file_extension": ".py",
   "mimetype": "text/x-python",
   "name": "python",
   "nbconvert_exporter": "python",
   "pygments_lexer": "ipython3",
   "version": "3.6.3"
  }
 },
 "nbformat": 4,
 "nbformat_minor": 2
}
