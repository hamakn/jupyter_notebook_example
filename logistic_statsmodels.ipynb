{
 "cells": [
  {
   "cell_type": "code",
   "execution_count": null,
   "metadata": {},
   "outputs": [],
   "source": [
    "# http://ailaby.com/logistic_reg/\n",
    "# python sklearn でロジスティック回帰。fit して predict、引数 C で正則化\n",
    "# のsklearnをstatsmodelsに置き換える\n",
    "# FIXME: train_test_splitとStandardScalerは本筋ではないのでとりあえずそのまま..."
   ]
  },
  {
   "cell_type": "code",
   "execution_count": 158,
   "metadata": {},
   "outputs": [
    {
     "data": {
      "text/plain": [
       "<matplotlib.legend.Legend at 0x7f610d94d940>"
      ]
     },
     "execution_count": 158,
     "metadata": {},
     "output_type": "execute_result"
    },
    {
     "data": {
      "image/png": "[encoded data removed]",
      "text/plain": [
       "<matplotlib.figure.Figure at 0x7f610d6fa940>"
      ]
     },
     "metadata": {},
     "output_type": "display_data"
    }
   ],
   "source": [
    "# ここは logistic.ipynb と同じ\n",
    "\n",
    "from sklearn.cross_validation import train_test_split\n",
    "from sklearn.preprocessing import StandardScaler\n",
    "import matplotlib.pyplot as plt\n",
    "import numpy as np\n",
    " \n",
    "# 乱数の固定化\n",
    "np.random.seed(seed=0)\n",
    "\n",
    "# (2,2)を中心に、第二引数分分散したデータを50個作る\n",
    "X_0 = np.random.multivariate_normal( [2,2],  [[2,0],[0,2]],  50 )\n",
    "y_0 = np.zeros(len(X_0))\n",
    "\n",
    "# (6,7)を中心に、第二引数分分散したデータを50個作る\n",
    "X_1 = np.random.multivariate_normal( [6,7],  [[3,0],[0,3]],  50 )\n",
    "y_1 = np.ones(len(X_1))\n",
    "\n",
    "# 行列を縦に連結\n",
    "X = np.vstack((X_0, X_1))\n",
    "y = np.append(y_0, y_1)\n",
    "\n",
    "# 訓練データとテストデータを3:7に分割\n",
    "X_train, X_test, y_train, y_test = train_test_split(X, y, test_size=0.3)\n",
    "\n",
    "# 特徴データを標準化(平均 0、標準偏差 1)\n",
    "# 標準化について: https://bellcurve.jp/statistics/course/7801.html\n",
    "sc = StandardScaler()\n",
    "X_train_std = sc.fit_transform(X_train)\n",
    "X_test_std = sc.transform(X_test)\n",
    "\n",
    "# X[Y==0] は、ndarrayに対する、Yの条件を満たすXの要素を計算する式\n",
    "# 例:\n",
    "# A = np.array([1,2,3])\n",
    "# a = np.array([0,0,1])\n",
    "# print(A[a==0]) # => [1,2]\n",
    "\n",
    "# X[Y==0, 0] は、上記の結果に対する行列のアクセスも含むやつ\n",
    "# 例:\n",
    "# B = np.array([[1, 100], [2, 200], [3, 300]])\n",
    "# b = np.array([0,0,1])\n",
    "# print(B[b==0,1]) # => [100, 200]\n",
    "\n",
    "plt.scatter(X_train_std[y_train==0, 0], X_train_std[y_train==0, 1], c='red', marker='x', label='train 0')\n",
    "plt.scatter(X_train_std[y_train==1, 0], X_train_std[y_train==1, 1], c='blue', marker='x', label='train 1')\n",
    "plt.scatter(X_test_std[y_test==0, 0], X_test_std[y_test==0, 1], c='red', marker='o', s=60, label='test 0')\n",
    "plt.scatter(X_test_std[y_test==1, 0], X_test_std[y_test==1, 1], c='blue', marker='o', s=60, label='test 1')\n",
    "\n",
    "plt.legend(loc='upper left')"
   ]
  },
  {
   "cell_type": "code",
   "execution_count": 199,
   "metadata": {
    "scrolled": false
   },
   "outputs": [
    {
     "name": "stdout",
     "output_type": "stream",
     "text": [
      "Warning: Maximum number of iterations has been exceeded.\n",
      "         Current function value: 0.000078\n",
      "         Iterations: 15\n"
     ]
    },
    {
     "name": "stderr",
     "output_type": "stream",
     "text": [
      "/opt/conda/lib/python3.6/site-packages/statsmodels/discrete/discrete_model.py:1214: RuntimeWarning: overflow encountered in exp\n",
      "  return 1/(1+np.exp(-X))\n",
      "/opt/conda/lib/python3.6/site-packages/statsmodels/base/model.py:496: ConvergenceWarning: Maximum Likelihood optimization failed to converge. Check mle_retvals\n",
      "  \"Check mle_retvals\", ConvergenceWarning)\n"
     ]
    },
    {
     "data": {
      "text/html": [
       "<table class=\"simpletable\">\n",
       "<caption>Logit Regression Results</caption>\n",
       "<tr>\n",
       "  <th>Dep. Variable:</th>         <td>y</td>        <th>  No. Observations:  </th>   <td>    70</td>  \n",
       "</tr>\n",
       "<tr>\n",
       "  <th>Model:</th>               <td>Logit</td>      <th>  Df Residuals:      </th>   <td>    67</td>  \n",
       "</tr>\n",
       "<tr>\n",
       "  <th>Method:</th>               <td>MLE</td>       <th>  Df Model:          </th>   <td>     2</td>  \n",
       "</tr>\n",
       "<tr>\n",
       "  <th>Date:</th>          <td>Tue, 09 Jan 2018</td> <th>  Pseudo R-squ.:     </th>   <td>0.9999</td>  \n",
       "</tr>\n",
       "<tr>\n",
       "  <th>Time:</th>              <td>03:52:56</td>     <th>  Log-Likelihood:    </th> <td>-0.0054754</td>\n",
       "</tr>\n",
       "<tr>\n",
       "  <th>converged:</th>           <td>False</td>      <th>  LL-Null:           </th>  <td> -48.492</td> \n",
       "</tr>\n",
       "<tr>\n",
       "  <th> </th>                      <td> </td>        <th>  LLR p-value:       </th>  <td>8.764e-22</td>\n",
       "</tr>\n",
       "</table>\n",
       "<table class=\"simpletable\">\n",
       "<tr>\n",
       "    <td></td>       <th>coef</th>     <th>std err</th>      <th>z</th>      <th>P>|z|</th>  <th>[0.025</th>    <th>0.975]</th>  \n",
       "</tr>\n",
       "<tr>\n",
       "  <th>const</th> <td>  -35.5035</td> <td>   81.844</td> <td>   -0.434</td> <td> 0.664</td> <td> -195.915</td> <td>  124.908</td>\n",
       "</tr>\n",
       "<tr>\n",
       "  <th>x1</th>    <td>  533.0968</td> <td> 1195.181</td> <td>    0.446</td> <td> 0.656</td> <td>-1809.415</td> <td> 2875.608</td>\n",
       "</tr>\n",
       "<tr>\n",
       "  <th>x2</th>    <td>  193.5514</td> <td>  423.196</td> <td>    0.457</td> <td> 0.647</td> <td> -635.898</td> <td> 1023.001</td>\n",
       "</tr>\n",
       "</table>"
      ],
      "text/plain": [
       "<class 'statsmodels.iolib.summary.Summary'>\n",
       "\"\"\"\n",
       "                           Logit Regression Results                           \n",
       "==============================================================================\n",
       "Dep. Variable:                      y   No. Observations:                   70\n",
       "Model:                          Logit   Df Residuals:                       67\n",
       "Method:                           MLE   Df Model:                            2\n",
       "Date:                Tue, 09 Jan 2018   Pseudo R-squ.:                  0.9999\n",
       "Time:                        03:52:56   Log-Likelihood:             -0.0054754\n",
       "converged:                      False   LL-Null:                       -48.492\n",
       "                                        LLR p-value:                 8.764e-22\n",
       "==============================================================================\n",
       "                 coef    std err          z      P>|z|      [0.025      0.975]\n",
       "------------------------------------------------------------------------------\n",
       "const        -35.5035     81.844     -0.434      0.664    -195.915     124.908\n",
       "x1           533.0968   1195.181      0.446      0.656   -1809.415    2875.608\n",
       "x2           193.5514    423.196      0.457      0.647    -635.898    1023.001\n",
       "==============================================================================\n",
       "\n",
       "Possibly complete quasi-separation: A fraction 0.96 of observations can be\n",
       "perfectly predicted. This might indicate that there is complete\n",
       "quasi-separation. In this case some parameters will not be identified.\n",
       "\"\"\""
      ]
     },
     "execution_count": 199,
     "metadata": {},
     "output_type": "execute_result"
    }
   ],
   "source": [
    "import statsmodels.api as sm\n",
    "\n",
    "xx = sm.add_constant(X_train_std)\n",
    "result = sm.Logit(endog=y_train, exog=xx).fit(maxiter=15)\n",
    "result.summary()"
   ]
  },
  {
   "cell_type": "code",
   "execution_count": 201,
   "metadata": {},
   "outputs": [
    {
     "name": "stdout",
     "output_type": "stream",
     "text": [
      "[ 1.]\n"
     ]
    },
    {
     "data": {
      "image/png": "[encoded data removed]",
      "text/plain": [
       "<matplotlib.figure.Figure at 0x7f610d87a588>"
      ]
     },
     "metadata": {},
     "output_type": "display_data"
    }
   ],
   "source": [
    "# 境界線\n",
    "const = result.params[0]\n",
    "x1 = result.params[1]\n",
    "x2 = result.params[2]\n",
    "v = np.linspace(-1, 1, 5)\n",
    "plt.plot(v, (lambda x: (x1 * x + const)/-x2)(v))\n",
    "\n",
    "# 95% 信頼区間\n",
    "conf_int = result.conf_int()\n",
    "\n",
    "const = conf_int[0][0]\n",
    "x1 = conf_int[1][0]\n",
    "x2 = conf_int[2][0]\n",
    "v = np.linspace(-1, 1, 5)\n",
    "# plt.plot(v, (lambda x: (x1 * x + const)/-x2)(v), 'g')\n",
    "\n",
    "const = conf_int[0][1]\n",
    "x1 = conf_int[1][1]\n",
    "x2 = conf_int[2][1]\n",
    "v = np.linspace(-1, 1, 5)\n",
    "# plt.plot(v, (lambda x: (x1 * x + const)/-x2)(v), 'g')\n",
    "\n",
    "\n",
    "plt.scatter(X_train_std[y_train==0, 0], X_train_std[y_train==0, 1], c='red', marker='x', label='train 0')\n",
    "plt.scatter(X_train_std[y_train==1, 0], X_train_std[y_train==1, 1], c='blue', marker='x', label='train 1')\n",
    "plt.scatter(X_test_std[y_test==0, 0], X_test_std[y_test==0, 1], c='red', marker='o', s=60, label='test 0')\n",
    "plt.scatter(X_test_std[y_test==1, 0], X_test_std[y_test==1, 1], c='blue', marker='o', s=60, label='test 1')\n",
    "\n",
    "plt.legend(loc='upper left')\n",
    "\n",
    "print(model.predict([[1,0]]))\n"
   ]
  },
  {
   "cell_type": "code",
   "execution_count": 83,
   "metadata": {},
   "outputs": [
    {
     "name": "stdout",
     "output_type": "stream",
     "text": [
      "0.0\n",
      "[[ 18.80958202  11.35340685]]\n",
      "[ 18.8405609   11.37914275]\n"
     ]
    }
   ],
   "source": [
    "## sklearnとsm.Logitの比較\n",
    "\n",
    "# sklearn\n",
    "from sklearn.linear_model import LogisticRegression\n",
    "model = LogisticRegression(fit_intercept = False, C = 1e9) # Cは無限大に近い方がstatsmodelsの結果と一致するようになる\n",
    "mdl = model.fit(X_train_std, y_train)\n",
    "print(model.intercept_) # fit_interceptがfalseなら0になる\n",
    "print(model.coef_)\n",
    "\n",
    "# sm\n",
    "import statsmodels.discrete.discrete_model as sm\n",
    "logit = sm.Logit(y_train, X_train_std)\n",
    "f = logit.fit(disp=0)\n",
    "print(f.params)\n",
    "\n",
    "# =>\n",
    "# 0.0\n",
    "# [[ 18.80958202  11.35340685]]\n",
    "# [ 18.8405609   11.37914275]\n",
    "# だいたい同じ!!"
   ]
  }
 ],
 "metadata": {
  "kernelspec": {
   "display_name": "Python 3",
   "language": "python",
   "name": "python3"
  },
  "language_info": {
   "codemirror_mode": {
    "name": "ipython",
    "version": 3
   },
   "file_extension": ".py",
   "mimetype": "text/x-python",
   "name": "python",
   "nbconvert_exporter": "python",
   "pygments_lexer": "ipython3",
   "version": "3.6.3"
  }
 },
 "nbformat": 4,
 "nbformat_minor": 2
}
