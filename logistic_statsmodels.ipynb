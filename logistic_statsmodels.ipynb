{
 "cells": [
  {
   "cell_type": "code",
   "execution_count": null,
   "metadata": {},
   "outputs": [],
   "source": [
    "# http://ailaby.com/logistic_reg/\n",
    "# python sklearn でロジスティック回帰。fit して predict、引数 C で正則化\n",
    "# のsklearnをstatsmodelsに置き換える\n",
    "# FIXME: train_test_splitとStandardScalerは本筋ではないのでとりあえずそのまま..."
   ]
  },
  {
   "cell_type": "code",
   "execution_count": 75,
   "metadata": {},
   "outputs": [
    {
     "data": {
      "text/plain": [
       "<matplotlib.legend.Legend at 0x7f6110b073c8>"
      ]
     },
     "execution_count": 75,
     "metadata": {},
     "output_type": "execute_result"
    },
    {
     "data": {
      "image/png": "[encoded data removed]",
      "text/plain": [
       "<matplotlib.figure.Figure at 0x7f61110fcc50>"
      ]
     },
     "metadata": {},
     "output_type": "display_data"
    }
   ],
   "source": [
    "# ここは logistic.ipynb と同じ\n",
    "\n",
    "from sklearn.cross_validation import train_test_split\n",
    "from sklearn.preprocessing import StandardScaler\n",
    "import matplotlib.pyplot as plt\n",
    "import numpy as np\n",
    " \n",
    "# 乱数の固定化\n",
    "np.random.seed(seed=0)\n",
    "\n",
    "# (2,2)を中心に、第二引数分分散したデータを50個作る\n",
    "X_0 = np.random.multivariate_normal( [2,2],  [[2,0],[0,2]],  50 )\n",
    "y_0 = np.zeros(len(X_0))\n",
    "\n",
    "# (6,7)を中心に、第二引数分分散したデータを50個作る\n",
    "X_1 = np.random.multivariate_normal( [6,7],  [[3,0],[0,3]],  50 )\n",
    "y_1 = np.ones(len(X_1))\n",
    "\n",
    "# 行列を縦に連結\n",
    "X = np.vstack((X_0, X_1))\n",
    "y = np.append(y_0, y_1)\n",
    "\n",
    "# 訓練データとテストデータを3:7に分割\n",
    "X_train, X_test, y_train, y_test = train_test_split(X, y, test_size=0.3)\n",
    "\n",
    "# 特徴データを標準化(平均 0、標準偏差 1)\n",
    "# 標準化について: https://bellcurve.jp/statistics/course/7801.html\n",
    "sc = StandardScaler()\n",
    "X_train_std = sc.fit_transform(X_train)\n",
    "X_test_std = sc.transform(X_test)\n",
    "\n",
    "# X[Y==0] は、ndarrayに対する、Yの条件を満たすXの要素を計算する式\n",
    "# 例:\n",
    "# A = np.array([1,2,3])\n",
    "# a = np.array([0,0,1])\n",
    "# print(A[a==0]) # => [1,2]\n",
    "\n",
    "# X[Y==0, 0] は、上記の結果に対する行列のアクセスも含むやつ\n",
    "# 例:\n",
    "# B = np.array([[1, 100], [2, 200], [3, 300]])\n",
    "# b = np.array([0,0,1])\n",
    "# print(B[b==0,1]) # => [100, 200]\n",
    "\n",
    "plt.scatter(X_train_std[y_train==0, 0], X_train_std[y_train==0, 1], c='red', marker='x', label='train 0')\n",
    "plt.scatter(X_train_std[y_train==1, 0], X_train_std[y_train==1, 1], c='blue', marker='x', label='train 1')\n",
    "plt.scatter(X_test_std[y_test==0, 0], X_test_std[y_test==0, 1], c='red', marker='o', s=60, label='test 0')\n",
    "plt.scatter(X_test_std[y_test==1, 0], X_test_std[y_test==1, 1], c='blue', marker='o', s=60, label='test 1')\n",
    "\n",
    "plt.legend(loc='upper left')"
   ]
  },
  {
   "cell_type": "code",
   "execution_count": 44,
   "metadata": {
    "scrolled": false
   },
   "outputs": [
    {
     "name": "stdout",
     "output_type": "stream",
     "text": [
      "Optimization terminated successfully.\n",
      "         Current function value: 0.024951\n",
      "         Iterations 13\n"
     ]
    },
    {
     "data": {
      "text/html": [
       "<table class=\"simpletable\">\n",
       "<caption>Logit Regression Results</caption>\n",
       "<tr>\n",
       "  <th>Dep. Variable:</th>         <td>y</td>        <th>  No. Observations:  </th>  <td>    70</td>  \n",
       "</tr>\n",
       "<tr>\n",
       "  <th>Model:</th>               <td>Logit</td>      <th>  Df Residuals:      </th>  <td>    68</td>  \n",
       "</tr>\n",
       "<tr>\n",
       "  <th>Method:</th>               <td>MLE</td>       <th>  Df Model:          </th>  <td>     1</td>  \n",
       "</tr>\n",
       "<tr>\n",
       "  <th>Date:</th>          <td>Mon, 08 Jan 2018</td> <th>  Pseudo R-squ.:     </th>  <td>0.9640</td>  \n",
       "</tr>\n",
       "<tr>\n",
       "  <th>Time:</th>              <td>10:52:25</td>     <th>  Log-Likelihood:    </th> <td> -1.7465</td> \n",
       "</tr>\n",
       "<tr>\n",
       "  <th>converged:</th>           <td>True</td>       <th>  LL-Null:           </th> <td> -48.492</td> \n",
       "</tr>\n",
       "<tr>\n",
       "  <th> </th>                      <td> </td>        <th>  LLR p-value:       </th> <td>4.082e-22</td>\n",
       "</tr>\n",
       "</table>\n",
       "<table class=\"simpletable\">\n",
       "<tr>\n",
       "   <td></td>     <th>coef</th>     <th>std err</th>      <th>z</th>      <th>P>|z|</th>  <th>[0.025</th>    <th>0.975]</th>  \n",
       "</tr>\n",
       "<tr>\n",
       "  <th>x1</th> <td>   18.8406</td> <td>   15.378</td> <td>    1.225</td> <td> 0.221</td> <td>  -11.301</td> <td>   48.982</td>\n",
       "</tr>\n",
       "<tr>\n",
       "  <th>x2</th> <td>   11.3791</td> <td>    9.253</td> <td>    1.230</td> <td> 0.219</td> <td>   -6.757</td> <td>   29.515</td>\n",
       "</tr>\n",
       "</table>"
      ],
      "text/plain": [
       "<class 'statsmodels.iolib.summary.Summary'>\n",
       "\"\"\"\n",
       "                           Logit Regression Results                           \n",
       "==============================================================================\n",
       "Dep. Variable:                      y   No. Observations:                   70\n",
       "Model:                          Logit   Df Residuals:                       68\n",
       "Method:                           MLE   Df Model:                            1\n",
       "Date:                Mon, 08 Jan 2018   Pseudo R-squ.:                  0.9640\n",
       "Time:                        10:52:25   Log-Likelihood:                -1.7465\n",
       "converged:                       True   LL-Null:                       -48.492\n",
       "                                        LLR p-value:                 4.082e-22\n",
       "==============================================================================\n",
       "                 coef    std err          z      P>|z|      [0.025      0.975]\n",
       "------------------------------------------------------------------------------\n",
       "x1            18.8406     15.378      1.225      0.221     -11.301      48.982\n",
       "x2            11.3791      9.253      1.230      0.219      -6.757      29.515\n",
       "==============================================================================\n",
       "\n",
       "Possibly complete quasi-separation: A fraction 0.83 of observations can be\n",
       "perfectly predicted. This might indicate that there is complete\n",
       "quasi-separation. In this case some parameters will not be identified.\n",
       "\"\"\""
      ]
     },
     "execution_count": 44,
     "metadata": {},
     "output_type": "execute_result"
    }
   ],
   "source": [
    "import statsmodels.api as sm\n",
    "\n",
    "result = sm.Logit(endog=y_train, exog=X_train_std).fit()\n",
    "result.summary()"
   ]
  },
  {
   "cell_type": "code",
   "execution_count": 84,
   "metadata": {},
   "outputs": [
    {
     "data": {
      "text/plain": [
       "<matplotlib.legend.Legend at 0x7f610eb97550>"
      ]
     },
     "execution_count": 84,
     "metadata": {},
     "output_type": "execute_result"
    },
    {
     "data": {
      "image/png": "[encoded data removed]",
      "text/plain": [
       "<matplotlib.figure.Figure at 0x7f610ec15518>"
      ]
     },
     "metadata": {},
     "output_type": "display_data"
    }
   ],
   "source": [
    "from statsmodels.sandbox.regression.predstd import wls_prediction_std\n",
    "from statsmodels.stats.outliers_influence import summary_table\n",
    "\n",
    "x1 = result.params[0]\n",
    "x2 = result.params[1]\n",
    "\n",
    "v = np.linspace(-2, 2, 5)\n",
    "plt.plot(v, (lambda x: (-x1 * x)/x2)(v))\n",
    "plt.scatter(X_train_std[y_train==0, 0], X_train_std[y_train==0, 1], c='red', marker='x', label='train 0')\n",
    "plt.scatter(X_train_std[y_train==1, 0], X_train_std[y_train==1, 1], c='blue', marker='x', label='train 1')\n",
    "plt.scatter(X_test_std[y_test==0, 0], X_test_std[y_test==0, 1], c='red', marker='o', s=60, label='test 0')\n",
    "plt.scatter(X_test_std[y_test==1, 0], X_test_std[y_test==1, 1], c='blue', marker='o', s=60, label='test 1')\n",
    "plt.legend(loc='upper left')"
   ]
  },
  {
   "cell_type": "code",
   "execution_count": 83,
   "metadata": {},
   "outputs": [
    {
     "name": "stdout",
     "output_type": "stream",
     "text": [
      "0.0\n",
      "[[ 18.80958202  11.35340685]]\n",
      "[ 18.8405609   11.37914275]\n"
     ]
    }
   ],
   "source": [
    "## sklearnとsm.Logitの比較\n",
    "\n",
    "# sklearn\n",
    "from sklearn.linear_model import LogisticRegression\n",
    "model = LogisticRegression(fit_intercept = False, C = 1e9) # Cは無限大に近い方がstatsmodelsの結果と一致するようになる\n",
    "mdl = model.fit(X_train_std, y_train)\n",
    "print(model.intercept_) # fit_interceptがfalseなら0になる\n",
    "print(model.coef_)\n",
    "\n",
    "# sm\n",
    "import statsmodels.discrete.discrete_model as sm\n",
    "logit = sm.Logit(y_train, X_train_std)\n",
    "f = logit.fit(disp=0)\n",
    "print(f.params)\n",
    "\n",
    "# =>\n",
    "# 0.0\n",
    "# [[ 18.80958202  11.35340685]]\n",
    "# [ 18.8405609   11.37914275]\n",
    "# だいたい同じ!!"
   ]
  }
 ],
 "metadata": {
  "kernelspec": {
   "display_name": "Python 3",
   "language": "python",
   "name": "python3"
  },
  "language_info": {
   "codemirror_mode": {
    "name": "ipython",
    "version": 3
   },
   "file_extension": ".py",
   "mimetype": "text/x-python",
   "name": "python",
   "nbconvert_exporter": "python",
   "pygments_lexer": "ipython3",
   "version": "3.6.3"
  }
 },
 "nbformat": 4,
 "nbformat_minor": 2
}
